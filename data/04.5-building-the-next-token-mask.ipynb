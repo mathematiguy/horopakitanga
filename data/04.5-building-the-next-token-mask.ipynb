{
 "cells": [
  {
   "cell_type": "markdown",
   "id": "8015aa76-1938-429d-afe2-223789c8ff5f",
   "metadata": {},
   "source": [
    "# Building the next token mask matrix"
   ]
  },
  {
   "cell_type": "code",
   "execution_count": null,
   "id": "e574952e-bff2-4ef3-b828-7808979a7de6",
   "metadata": {},
   "outputs": [],
   "source": [
    "import json\n",
    "import torch\n",
    "from itertools import chain \n",
    "from ataarangi.data import SequenceTokenizer\n",
    "\n",
    "tokenizer = SequenceTokenizer('../data/worldstate_tokens.txt', '../data/tokens.txt')\n",
    "\n",
    "class_successor_dict = json.load(open('../data/class_successors.json'))\n",
    "token_to_class_dict = json.load(open('../data/token_to_class.json'))\n",
    "\n",
    "class_to_tokens_dict = {k: list(chain.from_iterable([token_to_class_dict[l] for l in v])) for k, v in class_successor_dict.items()}\n",
    "\n",
    "source_to_target_token_dict = {k2: v1 for k1, v1 in class_to_tokens_dict.items() for k2 in token_to_class_dict[k1]}\n",
    "source_to_target_index_dict = {tokenizer.token_map[k]: [tokenizer.token_map[item] for item in v] for k, v in source_to_target_token_dict.items()}\n",
    "\n",
    "tuple_list = [(k, v) for k, vs in source_to_target_index_dict.items() for v in vs]\n",
    "\n",
    "# Initialize the mask matrix with zeros\n",
    "mask_matrix = torch.zeros((tokenizer.vocab_size, tokenizer.vocab_size), dtype=torch.float32)\n",
    "\n",
    "# Set valid transitions based on the tuple list\n",
    "for src, dest in tuple_list:\n",
    "    mask_matrix[src, dest] = 1"
   ]
  }
 ],
 "metadata": {
  "kernelspec": {
   "display_name": "Python 3 (ipykernel)",
   "language": "python",
   "name": "python3"
  },
  "language_info": {
   "codemirror_mode": {
    "name": "ipython",
    "version": 3
   },
   "file_extension": ".py",
   "mimetype": "text/x-python",
   "name": "python",
   "nbconvert_exporter": "python",
   "pygments_lexer": "ipython3",
   "version": "3.11.6"
  }
 },
 "nbformat": 4,
 "nbformat_minor": 5
}
