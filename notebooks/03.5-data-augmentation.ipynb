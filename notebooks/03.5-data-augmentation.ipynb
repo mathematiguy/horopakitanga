{
 "cells": [
  {
   "cell_type": "markdown",
   "id": "07e545d3-bf1b-46cb-afa4-df3d42d6cd17",
   "metadata": {},
   "source": [
    "# Data Augmentation"
   ]
  },
  {
   "cell_type": "code",
   "execution_count": 1,
   "id": "ed32209c-fd7b-46b3-a506-321c6c88647e",
   "metadata": {},
   "outputs": [],
   "source": [
    "import json\n",
    "import random\n",
    "import logging\n",
    "\n",
    "from tqdm import tqdm\n",
    "import itertools as it\n",
    "from functools import reduce\n",
    "\n",
    "import numpy as np\n",
    "import pandas as pd\n",
    "import matplotlib.pyplot as plt\n",
    "\n",
    "from ataarangi.utils import multicore_apply\n",
    "from ataarangi.data import māori_colour_map, MĀORI_COLOURS\n",
    "from ataarangi.rakau import WorldState, Rākau\n",
    "\n",
    "tqdm.pandas()"
   ]
  },
  {
   "cell_type": "code",
   "execution_count": 2,
   "id": "dac8bb7f-5f18-43e4-949f-7c3f6bf8ea4f",
   "metadata": {},
   "outputs": [],
   "source": [
    "json_data = []\n",
    "world_states = []\n",
    "with open('../data/world_states.jsonl', 'r') as f:\n",
    "    for line in f.readlines():\n",
    "        j = json.loads(line)\n",
    "        json_data.append(j)\n",
    "        world_states.append(\n",
    "            WorldState.from_dict(j['sticks'])\n",
    "        )\n",
    "\n",
    "rākau_data = pd.read_csv('../data/rākau_data.csv')"
   ]
  },
  {
   "cell_type": "code",
   "execution_count": 3,
   "id": "38596e0f-e9ce-4b10-b762-0f76d957aadd",
   "metadata": {},
   "outputs": [
    {
     "name": "stdout",
     "output_type": "stream",
     "text": [
      "ngā rākau\n"
     ]
    },
    {
     "data": {
      "image/png": "[encoded data removed]",
      "text/plain": [
       "<Figure size 1000x600 with 1 Axes>"
      ]
     },
     "metadata": {},
     "output_type": "display_data"
    }
   ],
   "source": [
    "index = 12 \n",
    "state = WorldState.from_dict(json_data[index]['sticks'])\n",
    "print(rākau_data.loc[index, 'description'])\n",
    "state.draw()"
   ]
  },
  {
   "cell_type": "markdown",
   "id": "2789bfa9-65e7-4f4b-b310-1fc5bfe9c489",
   "metadata": {},
   "source": [
    "Based on this plot, it's probably enough to filter out samples with more than 10 sticks as being 'too complicated'. That'll help us keep the feature matrices compact, which hopefully will help with learning."
   ]
  },
  {
   "cell_type": "markdown",
   "id": "50531b43-6266-4123-b055-9e32ec1e3b95",
   "metadata": {},
   "source": [
    "## Symmetries\n",
    "\n",
    "There are multiple symmetries in this game. We could use these to augment the training data and hopefully teach the model some useful invariances relating to the target task. The goal will be to implement these in this notebook.\n",
    "\n",
    "The symmetries are:\n",
    "- Colour: For a given world state, if you permute the colours in the input and permute the colours in the output in the same way, then the resulting (world state, utterance) pair will still be valid.\n",
    "- Size: The size is an ordinal variable, so as long as the sizes of the sticks are in the same relative order, the target utterance should not change.\n",
    "- Position: Unless the words \"Left\" or \"Right\" are used, the order of the sticks does not matter (this could be false, strictly speaking since putting the sticks all on one side may change the most natural utterance)\n",
    "- Reflection: If the words \"Left\" or \"Right\" are used, then if you reverse the order of the sticks, the target utterance will be valid after substituting \"Right\" for \"Left\" and vice-versa.\n",
    "\n",
    "### Colour\n",
    "\n",
    "We'll start by exploring colour, and we'll do this by calculating the set of all possible permutations of the available colours. Once we have that, we can choose all permutations that move at least one of the colours in the world state, and then we can apply all of those maps in the input and output to get every possible colour permutation of this world state."
   ]
  },
  {
   "cell_type": "code",
   "execution_count": 4,
   "id": "6edd5b2f-731c-4576-9296-8e9f09b3d2be",
   "metadata": {},
   "outputs": [],
   "source": [
    "from ataarangi.data import COLOURS\n",
    "import itertools as it"
   ]
  },
  {
   "cell_type": "code",
   "execution_count": 5,
   "id": "a3fd55e0-b67a-408c-a85b-2ff37a5463d1",
   "metadata": {},
   "outputs": [
    {
     "data": {
      "text/plain": [
       "({'red': 0,\n",
       "  'blue': 1,\n",
       "  'green': 2,\n",
       "  'yellow': 3,\n",
       "  'black': 4,\n",
       "  'white': 5,\n",
       "  'brown': 6,\n",
       "  'pink': 7},\n",
       " {0: 'red',\n",
       "  1: 'blue',\n",
       "  2: 'green',\n",
       "  3: 'yellow',\n",
       "  4: 'black',\n",
       "  5: 'white',\n",
       "  6: 'brown',\n",
       "  7: 'pink'})"
      ]
     },
     "execution_count": 5,
     "metadata": {},
     "output_type": "execute_result"
    }
   ],
   "source": [
    "colour_to_id = dict(zip(COLOURS, range(len(COLOURS))))\n",
    "id_to_colour = {v: k for k, v in colour_to_id.items()}\n",
    "colour_to_id, id_to_colour"
   ]
  },
  {
   "cell_type": "code",
   "execution_count": 6,
   "id": "d4d01e31-5a23-4c6d-a6fe-12a88987cf35",
   "metadata": {},
   "outputs": [],
   "source": [
    "def create_permutation_matrix(elements):\n",
    "    # Generate all permutations of the array of colors\n",
    "    elem_indices = np.arange(len(elements))\n",
    "    all_perms = list(it.permutations(elem_indices))\n",
    "    num_perms = len(all_perms)\n",
    "    \n",
    "    # Create a 3D array to hold the permutation transformation matrices\n",
    "    transformation_tensor = np.zeros((num_perms, len(elements), len(elements)), dtype=int)\n",
    "    \n",
    "    for i, perm in enumerate(all_perms):\n",
    "        # Fill the appropriate places in the matrix to indicate the movement\n",
    "        transformation_tensor[i, elem_indices, perm] = 1\n",
    "\n",
    "    return transformation_tensor"
   ]
  },
  {
   "cell_type": "code",
   "execution_count": 7,
   "id": "ddea4275-3398-4564-ae93-16513850ba98",
   "metadata": {},
   "outputs": [],
   "source": [
    "# Example usage\n",
    "num_colors = len(COLOURS)  # Small example with 4 colors\n",
    "permutation_matrix = create_permutation_matrix(COLOURS)"
   ]
  },
  {
   "cell_type": "code",
   "execution_count": 8,
   "id": "cbd49c82-967a-4056-b396-c8fdfdd5c812",
   "metadata": {},
   "outputs": [
    {
     "data": {
      "text/plain": [
       "array([    1,     2,     3, ..., 40317, 40318, 40319])"
      ]
     },
     "execution_count": 8,
     "metadata": {},
     "output_type": "execute_result"
    }
   ],
   "source": [
    "# Find all permutations where at least one colour in state.colors moves\n",
    "colour_indices = sorted([colour_to_id[col] for col in state.colors.keys()])\n",
    "\n",
    "perms = np.unique(\n",
    "    np.where(\n",
    "        permutation_matrix[:, colour_indices, colour_indices] == 0\n",
    "        )[0]\n",
    ")\n",
    "\n",
    "perms"
   ]
  },
  {
   "cell_type": "code",
   "execution_count": 9,
   "id": "76a94721-5e34-4315-8d41-66b5eb208328",
   "metadata": {},
   "outputs": [
    {
     "data": {
      "text/plain": [
       "39600"
      ]
     },
     "execution_count": 9,
     "metadata": {},
     "output_type": "execute_result"
    }
   ],
   "source": [
    "len(perms)"
   ]
  },
  {
   "cell_type": "markdown",
   "id": "5bae8335-a872-419f-a353-0ff0e3d0d131",
   "metadata": {},
   "source": [
    "So now that I have the table of permutations that move at least one of the blocks in the target set, I should use it to generate all of the world states corresponding to the table. Then, I take the given utterance for that world state, identify the bits that matter and permute them according to some rules.\n",
    "\n",
    "So I need a function that given a permutation matrix, computes the bijection that it represents. The output should be a dictionary that maps input colours to target colours."
   ]
  },
  {
   "cell_type": "code",
   "execution_count": 10,
   "id": "0d2202a9-88ed-4f35-9ea5-0f9f8b5e4ca5",
   "metadata": {},
   "outputs": [
    {
     "data": {
      "text/plain": [
       "{'red': 'red',\n",
       " 'blue': 'blue',\n",
       " 'green': 'yellow',\n",
       " 'yellow': 'green',\n",
       " 'black': 'black',\n",
       " 'white': 'brown',\n",
       " 'brown': 'pink',\n",
       " 'pink': 'white'}"
      ]
     },
     "execution_count": 10,
     "metadata": {},
     "output_type": "execute_result"
    }
   ],
   "source": [
    "# Get the mapping corresponding to a permutation matrix\n",
    "dict(zip(COLOURS, [COLOURS[idx] for idx in np.where(permutation_matrix[123])[1]]))"
   ]
  },
  {
   "cell_type": "markdown",
   "id": "21a8c34c-ca23-413c-a8fb-9f5161f174a7",
   "metadata": {},
   "source": [
    "Now that I have the bijection, I should probably package it into a function and then use it to generate permutations on the fly."
   ]
  },
  {
   "cell_type": "code",
   "execution_count": 11,
   "id": "5e7ef411-6326-4d51-bcf7-7ba6619e356c",
   "metadata": {},
   "outputs": [],
   "source": [
    "def generate_colour_permutations(indices, elements=COLOURS):\n",
    "    '''\n",
    "    Generate all permutations of an array of unique elements of a given length, and filter\n",
    "    such that each permutation moves at least one of the elements in `indices`.\n",
    "    '''\n",
    "    permutation_matrix = create_permutation_matrix(elements)\n",
    "    permutations = [dict(zip(elements, [elements[idx] for idx in np.where(perm)[1]])) for perm in permutation_matrix]\n",
    "    permutations = [{k: v for k, v in d.items() if colour_to_id[k] in indices} for d in permutations]\n",
    "    return [dict(t) for t in {tuple(d.items()) for d in permutations}]\n"
   ]
  },
  {
   "cell_type": "code",
   "execution_count": 12,
   "id": "da39f2cd-bfd8-4d9a-8beb-7d45446589d0",
   "metadata": {},
   "outputs": [
    {
     "data": {
      "text/plain": [
       "([3, 6], ['red', 'blue', 'green', 'yellow', 'black', 'white', 'brown', 'pink'])"
      ]
     },
     "execution_count": 12,
     "metadata": {},
     "output_type": "execute_result"
    }
   ],
   "source": [
    "colour_indices, COLOURS"
   ]
  },
  {
   "cell_type": "markdown",
   "id": "beee12e8-f95c-4601-92c3-0b02a192df62",
   "metadata": {},
   "source": [
    "So we have all of the mappings that move at least one element we care about. Now we need to take a given world state, and generate all of its permutations and then use the token mapping to permute the utterance in the same way."
   ]
  },
  {
   "cell_type": "code",
   "execution_count": 13,
   "id": "cebd839a-657b-4e84-8622-5d2955a8d61a",
   "metadata": {},
   "outputs": [
    {
     "data": {
      "text/plain": [
       "[{'yellow': 'red', 'brown': 'brown'},\n",
       " {'yellow': 'green', 'brown': 'white'},\n",
       " {'yellow': 'yellow', 'brown': 'white'},\n",
       " {'yellow': 'green', 'brown': 'black'},\n",
       " {'yellow': 'blue', 'brown': 'pink'},\n",
       " {'yellow': 'yellow', 'brown': 'black'},\n",
       " {'yellow': 'white', 'brown': 'pink'},\n",
       " {'yellow': 'black', 'brown': 'yellow'},\n",
       " {'yellow': 'green', 'brown': 'brown'},\n",
       " {'yellow': 'white', 'brown': 'blue'},\n",
       " {'yellow': 'yellow', 'brown': 'brown'},\n",
       " {'yellow': 'brown', 'brown': 'pink'},\n",
       " {'yellow': 'brown', 'brown': 'blue'},\n",
       " {'yellow': 'pink', 'brown': 'blue'},\n",
       " {'yellow': 'red', 'brown': 'green'},\n",
       " {'yellow': 'green', 'brown': 'red'},\n",
       " {'yellow': 'white', 'brown': 'yellow'},\n",
       " {'yellow': 'blue', 'brown': 'yellow'},\n",
       " {'yellow': 'yellow', 'brown': 'red'},\n",
       " {'yellow': 'black', 'brown': 'white'},\n",
       " {'yellow': 'brown', 'brown': 'yellow'},\n",
       " {'yellow': 'pink', 'brown': 'yellow'},\n",
       " {'yellow': 'yellow', 'brown': 'green'},\n",
       " {'yellow': 'black', 'brown': 'brown'},\n",
       " {'yellow': 'red', 'brown': 'pink'},\n",
       " {'yellow': 'blue', 'brown': 'white'},\n",
       " {'yellow': 'red', 'brown': 'blue'},\n",
       " {'yellow': 'white', 'brown': 'black'},\n",
       " {'yellow': 'blue', 'brown': 'black'},\n",
       " {'yellow': 'brown', 'brown': 'white'},\n",
       " {'yellow': 'pink', 'brown': 'white'},\n",
       " {'yellow': 'green', 'brown': 'pink'},\n",
       " {'yellow': 'white', 'brown': 'brown'},\n",
       " {'yellow': 'brown', 'brown': 'black'},\n",
       " {'yellow': 'yellow', 'brown': 'pink'},\n",
       " {'yellow': 'pink', 'brown': 'black'},\n",
       " {'yellow': 'blue', 'brown': 'brown'},\n",
       " {'yellow': 'green', 'brown': 'blue'},\n",
       " {'yellow': 'black', 'brown': 'red'},\n",
       " {'yellow': 'red', 'brown': 'yellow'},\n",
       " {'yellow': 'pink', 'brown': 'brown'},\n",
       " {'yellow': 'black', 'brown': 'green'},\n",
       " {'yellow': 'yellow', 'brown': 'blue'},\n",
       " {'yellow': 'blue', 'brown': 'red'},\n",
       " {'yellow': 'white', 'brown': 'red'},\n",
       " {'yellow': 'green', 'brown': 'yellow'},\n",
       " {'yellow': 'pink', 'brown': 'red'},\n",
       " {'yellow': 'white', 'brown': 'green'},\n",
       " {'yellow': 'blue', 'brown': 'green'},\n",
       " {'yellow': 'brown', 'brown': 'red'},\n",
       " {'yellow': 'red', 'brown': 'white'},\n",
       " {'yellow': 'brown', 'brown': 'green'},\n",
       " {'yellow': 'pink', 'brown': 'green'},\n",
       " {'yellow': 'red', 'brown': 'black'},\n",
       " {'yellow': 'black', 'brown': 'pink'},\n",
       " {'yellow': 'black', 'brown': 'blue'}]"
      ]
     },
     "execution_count": 13,
     "metadata": {},
     "output_type": "execute_result"
    }
   ],
   "source": [
    "state_colors = [colour_to_id[rākau.color] for rākau in state.ngā_rākau]\n",
    "generated_permutations = generate_colour_permutations(state_colors, COLOURS)\n",
    "generated_permutations"
   ]
  },
  {
   "cell_type": "markdown",
   "id": "cdf960a0-17b2-4083-a8b2-5dd0eb1f0f88",
   "metadata": {},
   "source": [
    "So now we have all of the permutations of the colour set. We can now look at size, position and reflection.\n",
    "\n",
    "Permuting the size is tricky because it needs to preserve the order. We "
   ]
  },
  {
   "cell_type": "code",
   "execution_count": 14,
   "id": "cce3646d-f3c7-479e-aa3f-ed8eb67a9622",
   "metadata": {},
   "outputs": [],
   "source": [
    "def generate_size_permutations(sizes, min_size, max_size):\n",
    "    \"\"\"\n",
    "    Generate all order-preserving permutations of sizes within a given range.\n",
    "\n",
    "    Args:\n",
    "        sizes (list of int): Original sizes of the sticks.\n",
    "        min_size (int): Minimum allowable size.\n",
    "        max_size (int): Maximum allowable size.\n",
    "\n",
    "    Returns:\n",
    "        list of list: All valid permutations of sizes maintaining the original order.\n",
    "    \"\"\"\n",
    "    min_current = min(sizes)\n",
    "    max_current = max(sizes)\n",
    "    \n",
    "    max_down_shift = min_current - min_size\n",
    "    max_up_shift = max_size - max_current\n",
    "    \n",
    "    permutations = []\n",
    "    \n",
    "    # Generate shifts from -max_down_shift to max_up_shift\n",
    "    for shift in range(-max_down_shift, max_up_shift + 1):\n",
    "        new_sizes = [size + shift for size in sizes]\n",
    "        permutations.append(new_sizes)\n",
    "    \n",
    "    return [dict(zip(sizes, perm)) for perm in permutations]\n",
    "\n",
    "def generate_ordered_size_permutations(sizes, min_size, max_size):\n",
    "    length = len(set(sizes))\n",
    "    sizes = list(set(sizes))\n",
    "    from itertools import combinations\n",
    "\n",
    "    # Generate all possible unique ordered combinations of sizes\n",
    "    # within the given range that preserve order.\n",
    "    all_sizes = range(min_size, max_size + 1)\n",
    "    size_map = [dict(zip(range(length), comb)) for comb in combinations(all_sizes, length)]\n",
    "    return [{sizes[k]: v for k, v in d.items()} for d in size_map]"
   ]
  },
  {
   "cell_type": "code",
   "execution_count": 15,
   "id": "dc5cbe73-970d-43c1-8a8a-610aee401d70",
   "metadata": {
    "scrolled": true
   },
   "outputs": [
    {
     "name": "stdout",
     "output_type": "stream",
     "text": [
      "[{1: 1, 4: 4, 5: 5}, {1: 2, 4: 5, 5: 6}, {1: 3, 4: 6, 5: 7}, {1: 4, 4: 7, 5: 8}, {1: 5, 4: 8, 5: 9}, {1: 6, 4: 9, 5: 10}]\n"
     ]
    }
   ],
   "source": [
    "# Example usage:\n",
    "sizes = [1, 4, 5]\n",
    "min_size = 1\n",
    "max_size = 10\n",
    "permutations = generate_size_permutations(sizes, min_size, max_size)\n",
    "print(permutations)"
   ]
  },
  {
   "cell_type": "markdown",
   "id": "b754fc09-8f93-49b7-b64e-6a9c394a4959",
   "metadata": {},
   "source": [
    "Ok that's a reasonable way to do it. The next thing is location, which we can do with regular permutation."
   ]
  },
  {
   "cell_type": "code",
   "execution_count": 16,
   "id": "9c5eab46-aa76-4cd9-a9ae-4660c31e33b9",
   "metadata": {},
   "outputs": [
    {
     "data": {
      "text/plain": [
       "[1, 2]"
      ]
     },
     "execution_count": 16,
     "metadata": {},
     "output_type": "execute_result"
    }
   ],
   "source": [
    "locations = [r.location for r in state.ngā_rākau]\n",
    "locations"
   ]
  },
  {
   "cell_type": "markdown",
   "id": "a3d6e63e-38d2-465e-b806-b3d65e7f6224",
   "metadata": {},
   "source": [
    "For the location, rather than generate potentially a very large number of permutations we can just sample n shuffles from the same set and take the unique ones."
   ]
  },
  {
   "cell_type": "markdown",
   "id": "c3f72f1b-6509-40c6-9a19-28359c9fb7d0",
   "metadata": {},
   "source": [
    "Okay, so we need to start folding these things together. We make a function, pass it a world state, utterance pair and it should produce a list of permuted world state, utterance pairs. Internally, it needs to compute:\n",
    "- The permutations of the colour set for that world state\n",
    "- The order preserving permutations of the size set\n",
    "- A randomly sampled set of positions (with a flag to turn this feature off)\n",
    "\n",
    "Then once it has those mappings, it needs to apply the colour map to the utterance and return the world state corresponding to that permutation as well (for tokenization)."
   ]
  },
  {
   "cell_type": "code",
   "execution_count": 17,
   "id": "7d75790b-d5c2-4c09-8b54-6ad45e887e7c",
   "metadata": {},
   "outputs": [
    {
     "data": {
      "text/plain": [
       "[Rākau(color=brown, height=1, location=1, selected=True),\n",
       " Rākau(color=yellow, height=10, location=2, selected=True)]"
      ]
     },
     "execution_count": 17,
     "metadata": {},
     "output_type": "execute_result"
    }
   ],
   "source": [
    "state.ngā_rākau"
   ]
  },
  {
   "cell_type": "code",
   "execution_count": 18,
   "id": "68a8869c-35f0-45bd-bab3-7de094b31da7",
   "metadata": {},
   "outputs": [
    {
     "data": {
      "text/plain": [
       "[6, 3]"
      ]
     },
     "execution_count": 18,
     "metadata": {},
     "output_type": "execute_result"
    }
   ],
   "source": [
    "state_colours = [colour_to_id[r.color] for r in state.ngā_rākau]\n",
    "state_colours"
   ]
  },
  {
   "cell_type": "code",
   "execution_count": 19,
   "id": "5bf4c568-aa97-4c90-a0e0-1a0497769411",
   "metadata": {},
   "outputs": [
    {
     "data": {
      "text/plain": [
       "[{'yellow': 'red', 'brown': 'brown'},\n",
       " {'yellow': 'green', 'brown': 'white'},\n",
       " {'yellow': 'yellow', 'brown': 'white'},\n",
       " {'yellow': 'green', 'brown': 'black'},\n",
       " {'yellow': 'blue', 'brown': 'pink'},\n",
       " {'yellow': 'yellow', 'brown': 'black'},\n",
       " {'yellow': 'white', 'brown': 'pink'},\n",
       " {'yellow': 'black', 'brown': 'yellow'},\n",
       " {'yellow': 'green', 'brown': 'brown'},\n",
       " {'yellow': 'white', 'brown': 'blue'}]"
      ]
     },
     "execution_count": 19,
     "metadata": {},
     "output_type": "execute_result"
    }
   ],
   "source": [
    "colour_permutations = generate_colour_permutations(state_colors)\n",
    "colour_permutations[:10]"
   ]
  },
  {
   "cell_type": "code",
   "execution_count": 20,
   "id": "df3226ec-e2cc-4218-8736-f782b2b8c214",
   "metadata": {},
   "outputs": [
    {
     "data": {
      "text/plain": [
       "[1, 10]"
      ]
     },
     "execution_count": 20,
     "metadata": {},
     "output_type": "execute_result"
    }
   ],
   "source": [
    "state_sizes = [r.height for r in state.ngā_rākau]\n",
    "state_sizes"
   ]
  },
  {
   "cell_type": "code",
   "execution_count": 21,
   "id": "7bbaed97-a373-44dd-8d57-c1e0f70fc965",
   "metadata": {},
   "outputs": [
    {
     "data": {
      "text/plain": [
       "[1, 10]"
      ]
     },
     "execution_count": 21,
     "metadata": {},
     "output_type": "execute_result"
    }
   ],
   "source": [
    "state_sizes"
   ]
  },
  {
   "cell_type": "code",
   "execution_count": 22,
   "id": "b5eb7202-e41f-4f8f-89fd-ed612a06fd42",
   "metadata": {},
   "outputs": [
    {
     "data": {
      "text/plain": [
       "[{1: 1, 10: 2},\n",
       " {1: 1, 10: 3},\n",
       " {1: 1, 10: 4},\n",
       " {1: 1, 10: 5},\n",
       " {1: 1, 10: 6},\n",
       " {1: 1, 10: 7},\n",
       " {1: 1, 10: 8},\n",
       " {1: 1, 10: 9},\n",
       " {1: 1, 10: 10},\n",
       " {1: 2, 10: 3},\n",
       " {1: 2, 10: 4},\n",
       " {1: 2, 10: 5},\n",
       " {1: 2, 10: 6},\n",
       " {1: 2, 10: 7},\n",
       " {1: 2, 10: 8},\n",
       " {1: 2, 10: 9},\n",
       " {1: 2, 10: 10},\n",
       " {1: 3, 10: 4},\n",
       " {1: 3, 10: 5},\n",
       " {1: 3, 10: 6},\n",
       " {1: 3, 10: 7},\n",
       " {1: 3, 10: 8},\n",
       " {1: 3, 10: 9},\n",
       " {1: 3, 10: 10},\n",
       " {1: 4, 10: 5},\n",
       " {1: 4, 10: 6},\n",
       " {1: 4, 10: 7},\n",
       " {1: 4, 10: 8},\n",
       " {1: 4, 10: 9},\n",
       " {1: 4, 10: 10},\n",
       " {1: 5, 10: 6},\n",
       " {1: 5, 10: 7},\n",
       " {1: 5, 10: 8},\n",
       " {1: 5, 10: 9},\n",
       " {1: 5, 10: 10},\n",
       " {1: 6, 10: 7},\n",
       " {1: 6, 10: 8},\n",
       " {1: 6, 10: 9},\n",
       " {1: 6, 10: 10},\n",
       " {1: 7, 10: 8},\n",
       " {1: 7, 10: 9},\n",
       " {1: 7, 10: 10},\n",
       " {1: 8, 10: 9},\n",
       " {1: 8, 10: 10},\n",
       " {1: 9, 10: 10}]"
      ]
     },
     "execution_count": 22,
     "metadata": {},
     "output_type": "execute_result"
    }
   ],
   "source": [
    "size_permutations = generate_ordered_size_permutations(state_sizes, 1, 10)\n",
    "size_permutations"
   ]
  },
  {
   "cell_type": "code",
   "execution_count": 23,
   "id": "a5f86e88-7828-49ff-b28c-ef0b960520a9",
   "metadata": {},
   "outputs": [
    {
     "name": "stdout",
     "output_type": "stream",
     "text": [
      "[1, 2]\n"
     ]
    }
   ],
   "source": [
    "state_locations = [r.location for r in state.ngā_rākau]\n",
    "print(state_locations)"
   ]
  },
  {
   "cell_type": "code",
   "execution_count": 24,
   "id": "22e9b7f8-836c-429a-93dc-2e2f876a9c8f",
   "metadata": {},
   "outputs": [
    {
     "data": {
      "text/plain": [
       "[{1: 0, 2: 3},\n",
       " {1: 0, 2: 5},\n",
       " {1: 0, 2: 8},\n",
       " {1: 0, 2: 9},\n",
       " {1: 1, 2: 1},\n",
       " {1: 1, 2: 3},\n",
       " {1: 1, 2: 4},\n",
       " {1: 1, 2: 5},\n",
       " {1: 1, 2: 6},\n",
       " {1: 1, 2: 9},\n",
       " {1: 2, 2: 0},\n",
       " {1: 2, 2: 2},\n",
       " {1: 2, 2: 8},\n",
       " {1: 2, 2: 9},\n",
       " {1: 3, 2: 0},\n",
       " {1: 3, 2: 4},\n",
       " {1: 3, 2: 5},\n",
       " {1: 3, 2: 7},\n",
       " {1: 4, 2: 0},\n",
       " {1: 4, 2: 1},\n",
       " {1: 4, 2: 4},\n",
       " {1: 4, 2: 5},\n",
       " {1: 5, 2: 0},\n",
       " {1: 5, 2: 1},\n",
       " {1: 5, 2: 6},\n",
       " {1: 5, 2: 7},\n",
       " {1: 6, 2: 3},\n",
       " {1: 6, 2: 6},\n",
       " {1: 6, 2: 7},\n",
       " {1: 6, 2: 9},\n",
       " {1: 7, 2: 2},\n",
       " {1: 7, 2: 4},\n",
       " {1: 7, 2: 7},\n",
       " {1: 8, 2: 2},\n",
       " {1: 8, 2: 5},\n",
       " {1: 8, 2: 7},\n",
       " {1: 8, 2: 8},\n",
       " {1: 9, 2: 2},\n",
       " {1: 9, 2: 6},\n",
       " {1: 9, 2: 7}]"
      ]
     },
     "execution_count": 24,
     "metadata": {},
     "output_type": "execute_result"
    }
   ],
   "source": [
    "location_permutations = sorted(set(tuple(random.choices(range(10), k=len(state_locations))) for _ in range(50)))\n",
    "location_permutations = [dict(zip(range(1, len(d)+1), d)) for d in location_permutations]\n",
    "location_permutations"
   ]
  },
  {
   "cell_type": "markdown",
   "id": "ec35466d-2b78-4062-ad48-00093a75ae17",
   "metadata": {},
   "source": [
    "Now we need to generate the world states corresponding to the product of all of these permutations."
   ]
  },
  {
   "cell_type": "code",
   "execution_count": 25,
   "id": "3faa325a-665d-457a-957c-a6e1d6dc4bd9",
   "metadata": {},
   "outputs": [],
   "source": [
    "states = []\n",
    "for colour_map, size_map, location_map in it.product(colour_permutations, size_permutations, location_permutations):\n",
    "    ngā_rākau = []\n",
    "    for rākau in state.ngā_rākau:\n",
    "        ngā_rākau.append(\n",
    "            Rākau(color=colour_map[rākau.color], height=size_map[rākau.height], location=location_map[rākau.location], selected=rākau.selected)\n",
    "        )\n",
    "    states.append(ngā_rākau)"
   ]
  },
  {
   "cell_type": "markdown",
   "id": "0f055523-c3ab-4617-a9d0-85e8c8fb2a7d",
   "metadata": {},
   "source": [
    "Now we have an array with all of the states. We should roll this into a function that takes just the world state as input, and returns an array of world states."
   ]
  },
  {
   "cell_type": "code",
   "execution_count": 26,
   "id": "7706d425-2e4b-49a0-b796-5237845b5196",
   "metadata": {},
   "outputs": [],
   "source": [
    "def generate_rākau_permutations(state, description, sample_size=1000):\n",
    "\n",
    "    tokens = description.split()\n",
    "    \n",
    "    state_colours = [colour_to_id[r.color] for r in state.ngā_rākau]\n",
    "    state_sizes = [r.height for r in state.ngā_rākau]\n",
    "    state_locations = [r.location for r in state.ngā_rākau]\n",
    "    colour_permutations = generate_colour_permutations(state_colours)\n",
    "    size_permutations = generate_ordered_size_permutations(state_sizes, 1, 10)\n",
    "\n",
    "    results = []\n",
    "    for _ in range(sample_size):\n",
    "        colour_map = random.choice(colour_permutations)\n",
    "        size_map = random.choice(size_permutations)\n",
    "\n",
    "        if not any([side in tokens for side in ['māui', 'matau']]):\n",
    "            location_map = dict(zip(range(1, len(state_locations)+1),\n",
    "                                tuple(random.choices(range(10), k=len(state_locations)))))\n",
    "        else:\n",
    "            if random.random() > 0.5:\n",
    "                # Keep the order\n",
    "                location_map = dict(zip(range(1, len(state_locations)+1), range(1, len(state_locations)+1)))\n",
    "            else:\n",
    "                # Reverse the order\n",
    "                location_map = dict(zip(range(1, len(state_locations)+1), list(range(1, len(state_locations)+1))[::-1]))\n",
    "                tokens = [\"māui\" if token == 'matau' else 'matau' if token == 'māui' else token for token in tokens]\n",
    "        \n",
    "        translated_colour_map = {māori_colour_map[k]: māori_colour_map[v] for k, v in colour_map.items()}        \n",
    "        translated_tokens = [token if not token in MĀORI_COLOURS else translated_colour_map[token] for token in tokens]\n",
    "        \n",
    "        ngā_rākau = WorldState()\n",
    "        for rākau in state.ngā_rākau:\n",
    "            ngā_rākau.add_rākau(\n",
    "                Rākau(color=colour_map[rākau.color], height=size_map[rākau.height], location=location_map[rākau.location], selected=rākau.selected)\n",
    "            )\n",
    "        results.append({'state': ngā_rākau, 'description': ' '.join(translated_tokens)})\n",
    "\n",
    "    return results\n"
   ]
  },
  {
   "cell_type": "code",
   "execution_count": 27,
   "id": "08cbb012-2c76-4a6e-8199-544d41f5cf91",
   "metadata": {},
   "outputs": [
    {
     "data": {
      "text/html": [
       "<div>\n",
       "<style scoped>\n",
       "    .dataframe tbody tr th:only-of-type {\n",
       "        vertical-align: middle;\n",
       "    }\n",
       "\n",
       "    .dataframe tbody tr th {\n",
       "        vertical-align: top;\n",
       "    }\n",
       "\n",
       "    .dataframe thead th {\n",
       "        text-align: right;\n",
       "    }\n",
       "</style>\n",
       "<table border=\"1\" class=\"dataframe\">\n",
       "  <thead>\n",
       "    <tr style=\"text-align: right;\">\n",
       "      <th></th>\n",
       "      <th>id</th>\n",
       "      <th>entropy</th>\n",
       "      <th>num_rākau</th>\n",
       "      <th>rākau</th>\n",
       "      <th>description</th>\n",
       "    </tr>\n",
       "  </thead>\n",
       "  <tbody>\n",
       "    <tr>\n",
       "      <th>0</th>\n",
       "      <td>800d23b5-574c-46d3-94cf-1066082e9d7d</td>\n",
       "      <td>3.0</td>\n",
       "      <td>2</td>\n",
       "      <td>[{\"color\": \"blue\", \"height\": 4, \"location\": 1,...</td>\n",
       "      <td>te rākau mā</td>\n",
       "    </tr>\n",
       "    <tr>\n",
       "      <th>1</th>\n",
       "      <td>659289fa-7473-4617-a8f0-61324cc0e3b1</td>\n",
       "      <td>2.0</td>\n",
       "      <td>2</td>\n",
       "      <td>[{\"color\": \"blue\", \"height\": 1, \"location\": 1,...</td>\n",
       "      <td>ngā rākau</td>\n",
       "    </tr>\n",
       "    <tr>\n",
       "      <th>2</th>\n",
       "      <td>7629eca4-df36-4921-973b-0ca7859c5018</td>\n",
       "      <td>3.0</td>\n",
       "      <td>2</td>\n",
       "      <td>[{\"color\": \"blue\", \"height\": 1, \"location\": 1,...</td>\n",
       "      <td>te rākau iti</td>\n",
       "    </tr>\n",
       "    <tr>\n",
       "      <th>3</th>\n",
       "      <td>89413927-94ca-4078-8198-85b957338400</td>\n",
       "      <td>3.0</td>\n",
       "      <td>2</td>\n",
       "      <td>[{\"color\": \"white\", \"height\": 8, \"location\": 1...</td>\n",
       "      <td>te rākau mā</td>\n",
       "    </tr>\n",
       "    <tr>\n",
       "      <th>4</th>\n",
       "      <td>eb110390-7be8-4d7a-93e0-211c33c033f1</td>\n",
       "      <td>3.0</td>\n",
       "      <td>2</td>\n",
       "      <td>[{\"color\": \"black\", \"height\": 10, \"location\": ...</td>\n",
       "      <td>ngā rākau</td>\n",
       "    </tr>\n",
       "    <tr>\n",
       "      <th>...</th>\n",
       "      <td>...</td>\n",
       "      <td>...</td>\n",
       "      <td>...</td>\n",
       "      <td>...</td>\n",
       "      <td>...</td>\n",
       "    </tr>\n",
       "    <tr>\n",
       "      <th>1012</th>\n",
       "      <td>3d543250-f7c8-47c4-9491-ab29d5c8c8fd</td>\n",
       "      <td>3.0</td>\n",
       "      <td>2</td>\n",
       "      <td>[{\"color\": \"black\", \"height\": 9, \"location\": 1...</td>\n",
       "      <td>te rākau kikorangi</td>\n",
       "    </tr>\n",
       "    <tr>\n",
       "      <th>1013</th>\n",
       "      <td>b6fcfe8b-5604-47d5-8e1a-1a2830219683</td>\n",
       "      <td>3.0</td>\n",
       "      <td>2</td>\n",
       "      <td>[{\"color\": \"white\", \"height\": 4, \"location\": 1...</td>\n",
       "      <td>te rākau mā</td>\n",
       "    </tr>\n",
       "    <tr>\n",
       "      <th>1014</th>\n",
       "      <td>ecc53392-b801-4159-8fe3-fe9475e50672</td>\n",
       "      <td>3.0</td>\n",
       "      <td>2</td>\n",
       "      <td>[{\"color\": \"red\", \"height\": 9, \"location\": 1, ...</td>\n",
       "      <td>te rākau whero</td>\n",
       "    </tr>\n",
       "    <tr>\n",
       "      <th>1015</th>\n",
       "      <td>bd1d8542-5e5f-4d03-9bf3-8b3d889fe737</td>\n",
       "      <td>3.0</td>\n",
       "      <td>2</td>\n",
       "      <td>[{\"color\": \"red\", \"height\": 10, \"location\": 1,...</td>\n",
       "      <td>ngā rākau</td>\n",
       "    </tr>\n",
       "    <tr>\n",
       "      <th>1016</th>\n",
       "      <td>3c44cb2b-3651-4558-87f6-025d7c968f56</td>\n",
       "      <td>3.0</td>\n",
       "      <td>2</td>\n",
       "      <td>[{\"color\": \"green\", \"height\": 2, \"location\": 1...</td>\n",
       "      <td>ngā rākau</td>\n",
       "    </tr>\n",
       "  </tbody>\n",
       "</table>\n",
       "<p>1017 rows × 5 columns</p>\n",
       "</div>"
      ],
      "text/plain": [
       "                                        id  entropy  num_rākau  \\\n",
       "0     800d23b5-574c-46d3-94cf-1066082e9d7d      3.0          2   \n",
       "1     659289fa-7473-4617-a8f0-61324cc0e3b1      2.0          2   \n",
       "2     7629eca4-df36-4921-973b-0ca7859c5018      3.0          2   \n",
       "3     89413927-94ca-4078-8198-85b957338400      3.0          2   \n",
       "4     eb110390-7be8-4d7a-93e0-211c33c033f1      3.0          2   \n",
       "...                                    ...      ...        ...   \n",
       "1012  3d543250-f7c8-47c4-9491-ab29d5c8c8fd      3.0          2   \n",
       "1013  b6fcfe8b-5604-47d5-8e1a-1a2830219683      3.0          2   \n",
       "1014  ecc53392-b801-4159-8fe3-fe9475e50672      3.0          2   \n",
       "1015  bd1d8542-5e5f-4d03-9bf3-8b3d889fe737      3.0          2   \n",
       "1016  3c44cb2b-3651-4558-87f6-025d7c968f56      3.0          2   \n",
       "\n",
       "                                                  rākau         description  \n",
       "0     [{\"color\": \"blue\", \"height\": 4, \"location\": 1,...         te rākau mā  \n",
       "1     [{\"color\": \"blue\", \"height\": 1, \"location\": 1,...           ngā rākau  \n",
       "2     [{\"color\": \"blue\", \"height\": 1, \"location\": 1,...        te rākau iti  \n",
       "3     [{\"color\": \"white\", \"height\": 8, \"location\": 1...         te rākau mā  \n",
       "4     [{\"color\": \"black\", \"height\": 10, \"location\": ...           ngā rākau  \n",
       "...                                                 ...                 ...  \n",
       "1012  [{\"color\": \"black\", \"height\": 9, \"location\": 1...  te rākau kikorangi  \n",
       "1013  [{\"color\": \"white\", \"height\": 4, \"location\": 1...         te rākau mā  \n",
       "1014  [{\"color\": \"red\", \"height\": 9, \"location\": 1, ...      te rākau whero  \n",
       "1015  [{\"color\": \"red\", \"height\": 10, \"location\": 1,...           ngā rākau  \n",
       "1016  [{\"color\": \"green\", \"height\": 2, \"location\": 1...           ngā rākau  \n",
       "\n",
       "[1017 rows x 5 columns]"
      ]
     },
     "execution_count": 27,
     "metadata": {},
     "output_type": "execute_result"
    }
   ],
   "source": [
    "rākau_data"
   ]
  },
  {
   "cell_type": "code",
   "execution_count": 28,
   "id": "f1f5f4d9-6fcb-4f1d-9d0c-79a100108e34",
   "metadata": {},
   "outputs": [
    {
     "name": "stdout",
     "output_type": "stream",
     "text": [
      "te rākau māwhero me te rākau mā\n"
     ]
    }
   ],
   "source": [
    "index = 123\n",
    "state_2 = WorldState.from_dict(json_data[index]['sticks'])\n",
    "print(rākau_data.loc[index, 'description'])\n",
    "# state_2.draw()"
   ]
  },
  {
   "cell_type": "code",
   "execution_count": 29,
   "id": "2dad5b6e-cff5-4c64-baf8-f3415fed4215",
   "metadata": {},
   "outputs": [
    {
     "name": "stdout",
     "output_type": "stream",
     "text": [
      "CPU times: user 263 ms, sys: 8.48 ms, total: 271 ms\n",
      "Wall time: 271 ms\n"
     ]
    },
    {
     "data": {
      "text/plain": [
       "[{'state': WorldState(Rākau(color=white, height=6, location=9, selected=False), Rākau(color=brown, height=4, location=3, selected=True), Rākau(color=green, height=4, location=4, selected=True)),\n",
       "  'description': 'te rākau parauri me te rākau kākāriki'},\n",
       " {'state': WorldState(Rākau(color=green, height=7, location=0, selected=False), Rākau(color=red, height=2, location=9, selected=True), Rākau(color=yellow, height=2, location=0, selected=True)),\n",
       "  'description': 'te rākau whero me te rākau kōwhai'}]"
      ]
     },
     "execution_count": 29,
     "metadata": {},
     "output_type": "execute_result"
    }
   ],
   "source": [
    "%%time\n",
    "generate_rākau_permutations(state_2, rākau_data.loc[index, 'description'])[:2]"
   ]
  },
  {
   "cell_type": "markdown",
   "id": "c8af163b-4ebf-459d-bf14-9836fc4bc386",
   "metadata": {},
   "source": [
    "Okay, I'll use this trick to increase the amount of data 1,000 fold. Then, I'll train the model on the results. That will give me over 1 million samples."
   ]
  },
  {
   "cell_type": "code",
   "execution_count": 30,
   "id": "2967e003-0a21-4810-b766-bc9b5fa4eb39",
   "metadata": {},
   "outputs": [
    {
     "name": "stderr",
     "output_type": "stream",
     "text": [
      "100%|███████████████████████████████████████| 1017/1017 [00:36<00:00, 27.87it/s]\n"
     ]
    },
    {
     "name": "stdout",
     "output_type": "stream",
     "text": [
      "CPU times: user 15.3 s, sys: 976 ms, total: 16.3 s\n",
      "Wall time: 36.7 s\n"
     ]
    }
   ],
   "source": [
    "%%time\n",
    "rākau_data['permuted'] = multicore_apply( \n",
    "    rākau_data.apply(lambda x: {'state': WorldState.from_dict({'ngā_rākau': json.loads(x.rākau)}), 'description': x.description}, axis=1),\n",
    "    generate_rākau_permutations,\n",
    "    n_jobs=16,\n",
    "    use_kwargs=True\n",
    ")"
   ]
  },
  {
   "cell_type": "code",
   "execution_count": 31,
   "id": "549bd317-7759-4447-9a30-ba333697e327",
   "metadata": {},
   "outputs": [
    {
     "data": {
      "text/html": [
       "<div>\n",
       "<style scoped>\n",
       "    .dataframe tbody tr th:only-of-type {\n",
       "        vertical-align: middle;\n",
       "    }\n",
       "\n",
       "    .dataframe tbody tr th {\n",
       "        vertical-align: top;\n",
       "    }\n",
       "\n",
       "    .dataframe thead th {\n",
       "        text-align: right;\n",
       "    }\n",
       "</style>\n",
       "<table border=\"1\" class=\"dataframe\">\n",
       "  <thead>\n",
       "    <tr style=\"text-align: right;\">\n",
       "      <th></th>\n",
       "      <th>id</th>\n",
       "      <th>entropy</th>\n",
       "      <th>num_rākau</th>\n",
       "      <th>rākau</th>\n",
       "      <th>description</th>\n",
       "      <th>permuted</th>\n",
       "    </tr>\n",
       "  </thead>\n",
       "  <tbody>\n",
       "    <tr>\n",
       "      <th>0</th>\n",
       "      <td>800d23b5-574c-46d3-94cf-1066082e9d7d</td>\n",
       "      <td>3.0</td>\n",
       "      <td>2</td>\n",
       "      <td>[{\"color\": \"blue\", \"height\": 4, \"location\": 1,...</td>\n",
       "      <td>te rākau mā</td>\n",
       "      <td>[{'state': WorldState(Rākau(color=blue, height...</td>\n",
       "    </tr>\n",
       "    <tr>\n",
       "      <th>1</th>\n",
       "      <td>659289fa-7473-4617-a8f0-61324cc0e3b1</td>\n",
       "      <td>2.0</td>\n",
       "      <td>2</td>\n",
       "      <td>[{\"color\": \"blue\", \"height\": 1, \"location\": 1,...</td>\n",
       "      <td>ngā rākau</td>\n",
       "      <td>[{'state': WorldState(Rākau(color=pink, height...</td>\n",
       "    </tr>\n",
       "    <tr>\n",
       "      <th>2</th>\n",
       "      <td>7629eca4-df36-4921-973b-0ca7859c5018</td>\n",
       "      <td>3.0</td>\n",
       "      <td>2</td>\n",
       "      <td>[{\"color\": \"blue\", \"height\": 1, \"location\": 1,...</td>\n",
       "      <td>te rākau iti</td>\n",
       "      <td>[{'state': WorldState(Rākau(color=red, height=...</td>\n",
       "    </tr>\n",
       "    <tr>\n",
       "      <th>3</th>\n",
       "      <td>89413927-94ca-4078-8198-85b957338400</td>\n",
       "      <td>3.0</td>\n",
       "      <td>2</td>\n",
       "      <td>[{\"color\": \"white\", \"height\": 8, \"location\": 1...</td>\n",
       "      <td>te rākau mā</td>\n",
       "      <td>[{'state': WorldState(Rākau(color=yellow, heig...</td>\n",
       "    </tr>\n",
       "    <tr>\n",
       "      <th>4</th>\n",
       "      <td>eb110390-7be8-4d7a-93e0-211c33c033f1</td>\n",
       "      <td>3.0</td>\n",
       "      <td>2</td>\n",
       "      <td>[{\"color\": \"black\", \"height\": 10, \"location\": ...</td>\n",
       "      <td>ngā rākau</td>\n",
       "      <td>[{'state': WorldState(Rākau(color=pink, height...</td>\n",
       "    </tr>\n",
       "    <tr>\n",
       "      <th>...</th>\n",
       "      <td>...</td>\n",
       "      <td>...</td>\n",
       "      <td>...</td>\n",
       "      <td>...</td>\n",
       "      <td>...</td>\n",
       "      <td>...</td>\n",
       "    </tr>\n",
       "    <tr>\n",
       "      <th>1012</th>\n",
       "      <td>3d543250-f7c8-47c4-9491-ab29d5c8c8fd</td>\n",
       "      <td>3.0</td>\n",
       "      <td>2</td>\n",
       "      <td>[{\"color\": \"black\", \"height\": 9, \"location\": 1...</td>\n",
       "      <td>te rākau kikorangi</td>\n",
       "      <td>[{'state': WorldState(Rākau(color=yellow, heig...</td>\n",
       "    </tr>\n",
       "    <tr>\n",
       "      <th>1013</th>\n",
       "      <td>b6fcfe8b-5604-47d5-8e1a-1a2830219683</td>\n",
       "      <td>3.0</td>\n",
       "      <td>2</td>\n",
       "      <td>[{\"color\": \"white\", \"height\": 4, \"location\": 1...</td>\n",
       "      <td>te rākau mā</td>\n",
       "      <td>[{'state': WorldState(Rākau(color=white, heigh...</td>\n",
       "    </tr>\n",
       "    <tr>\n",
       "      <th>1014</th>\n",
       "      <td>ecc53392-b801-4159-8fe3-fe9475e50672</td>\n",
       "      <td>3.0</td>\n",
       "      <td>2</td>\n",
       "      <td>[{\"color\": \"red\", \"height\": 9, \"location\": 1, ...</td>\n",
       "      <td>te rākau whero</td>\n",
       "      <td>[{'state': WorldState(Rākau(color=yellow, heig...</td>\n",
       "    </tr>\n",
       "    <tr>\n",
       "      <th>1015</th>\n",
       "      <td>bd1d8542-5e5f-4d03-9bf3-8b3d889fe737</td>\n",
       "      <td>3.0</td>\n",
       "      <td>2</td>\n",
       "      <td>[{\"color\": \"red\", \"height\": 10, \"location\": 1,...</td>\n",
       "      <td>ngā rākau</td>\n",
       "      <td>[{'state': WorldState(Rākau(color=white, heigh...</td>\n",
       "    </tr>\n",
       "    <tr>\n",
       "      <th>1016</th>\n",
       "      <td>3c44cb2b-3651-4558-87f6-025d7c968f56</td>\n",
       "      <td>3.0</td>\n",
       "      <td>2</td>\n",
       "      <td>[{\"color\": \"green\", \"height\": 2, \"location\": 1...</td>\n",
       "      <td>ngā rākau</td>\n",
       "      <td>[{'state': WorldState(Rākau(color=brown, heigh...</td>\n",
       "    </tr>\n",
       "  </tbody>\n",
       "</table>\n",
       "<p>1017 rows × 6 columns</p>\n",
       "</div>"
      ],
      "text/plain": [
       "                                        id  entropy  num_rākau  \\\n",
       "0     800d23b5-574c-46d3-94cf-1066082e9d7d      3.0          2   \n",
       "1     659289fa-7473-4617-a8f0-61324cc0e3b1      2.0          2   \n",
       "2     7629eca4-df36-4921-973b-0ca7859c5018      3.0          2   \n",
       "3     89413927-94ca-4078-8198-85b957338400      3.0          2   \n",
       "4     eb110390-7be8-4d7a-93e0-211c33c033f1      3.0          2   \n",
       "...                                    ...      ...        ...   \n",
       "1012  3d543250-f7c8-47c4-9491-ab29d5c8c8fd      3.0          2   \n",
       "1013  b6fcfe8b-5604-47d5-8e1a-1a2830219683      3.0          2   \n",
       "1014  ecc53392-b801-4159-8fe3-fe9475e50672      3.0          2   \n",
       "1015  bd1d8542-5e5f-4d03-9bf3-8b3d889fe737      3.0          2   \n",
       "1016  3c44cb2b-3651-4558-87f6-025d7c968f56      3.0          2   \n",
       "\n",
       "                                                  rākau         description  \\\n",
       "0     [{\"color\": \"blue\", \"height\": 4, \"location\": 1,...         te rākau mā   \n",
       "1     [{\"color\": \"blue\", \"height\": 1, \"location\": 1,...           ngā rākau   \n",
       "2     [{\"color\": \"blue\", \"height\": 1, \"location\": 1,...        te rākau iti   \n",
       "3     [{\"color\": \"white\", \"height\": 8, \"location\": 1...         te rākau mā   \n",
       "4     [{\"color\": \"black\", \"height\": 10, \"location\": ...           ngā rākau   \n",
       "...                                                 ...                 ...   \n",
       "1012  [{\"color\": \"black\", \"height\": 9, \"location\": 1...  te rākau kikorangi   \n",
       "1013  [{\"color\": \"white\", \"height\": 4, \"location\": 1...         te rākau mā   \n",
       "1014  [{\"color\": \"red\", \"height\": 9, \"location\": 1, ...      te rākau whero   \n",
       "1015  [{\"color\": \"red\", \"height\": 10, \"location\": 1,...           ngā rākau   \n",
       "1016  [{\"color\": \"green\", \"height\": 2, \"location\": 1...           ngā rākau   \n",
       "\n",
       "                                               permuted  \n",
       "0     [{'state': WorldState(Rākau(color=blue, height...  \n",
       "1     [{'state': WorldState(Rākau(color=pink, height...  \n",
       "2     [{'state': WorldState(Rākau(color=red, height=...  \n",
       "3     [{'state': WorldState(Rākau(color=yellow, heig...  \n",
       "4     [{'state': WorldState(Rākau(color=pink, height...  \n",
       "...                                                 ...  \n",
       "1012  [{'state': WorldState(Rākau(color=yellow, heig...  \n",
       "1013  [{'state': WorldState(Rākau(color=white, heigh...  \n",
       "1014  [{'state': WorldState(Rākau(color=yellow, heig...  \n",
       "1015  [{'state': WorldState(Rākau(color=white, heigh...  \n",
       "1016  [{'state': WorldState(Rākau(color=brown, heigh...  \n",
       "\n",
       "[1017 rows x 6 columns]"
      ]
     },
     "execution_count": 31,
     "metadata": {},
     "output_type": "execute_result"
    }
   ],
   "source": [
    "rākau_data"
   ]
  }
 ],
 "metadata": {
  "kernelspec": {
   "display_name": "Python 3 (ipykernel)",
   "language": "python",
   "name": "python3"
  },
  "language_info": {
   "codemirror_mode": {
    "name": "ipython",
    "version": 3
   },
   "file_extension": ".py",
   "mimetype": "text/x-python",
   "name": "python",
   "nbconvert_exporter": "python",
   "pygments_lexer": "ipython3",
   "version": "3.11.6"
  }
 },
 "nbformat": 4,
 "nbformat_minor": 5
}
