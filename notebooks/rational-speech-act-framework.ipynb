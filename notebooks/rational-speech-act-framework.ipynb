{
 "cells": [
  {
   "cell_type": "markdown",
   "id": "8b08e52a-44a1-4554-a0aa-5f50f1f3ac11",
   "metadata": {},
   "source": [
    "# Rational Speech Act Framework\n",
    "\n",
    "This notebook implements the basic scalar implicature game as described in [Degen, J. (2023)](https://www.annualreviews.org/docserver/fulltext/linguistics/9/1/annurev-linguistics-031220-010811.pdf?expires=1712101300&id=id&accname=guest&checksum=77D4FE3CFC55DEAC0AA30F6F193CB190)."
   ]
  },
  {
   "cell_type": "code",
   "execution_count": 1,
   "id": "a4fa92c9-8e6c-45b9-bfc8-f11c6f54df8c",
   "metadata": {},
   "outputs": [
    {
     "name": "stderr",
     "output_type": "stream",
     "text": [
      "Matplotlib created a temporary cache directory at /tmp/matplotlib-mxrzw2s0 because the default path (/home/jovyan/.cache/matplotlib) is not a writable directory; it is highly recommended to set the MPLCONFIGDIR environment variable to a writable directory, in particular to speed up the import of Matplotlib and to better support multiprocessing.\n"
     ]
    }
   ],
   "source": [
    "import numpy as np\n",
    "import matplotlib.pyplot as plt"
   ]
  },
  {
   "cell_type": "code",
   "execution_count": 2,
   "id": "94818392-87fa-4169-9eb1-4e6d22bd45fd",
   "metadata": {},
   "outputs": [],
   "source": [
    "def normalize(x):\n",
    "    return x / np.sum(x, axis=0)\n",
    "\n",
    "def safe_log(x, eps=1e-10):\n",
    "    clipped_x = np.clip(x, eps, None)\n",
    "    return np.where(x > 0, np.log(clipped_x), -np.inf)"
   ]
  },
  {
   "cell_type": "code",
   "execution_count": 7,
   "id": "a19f8eff-af06-49f3-94bd-84f4b338b601",
   "metadata": {},
   "outputs": [],
   "source": [
    "class RationalSpeechAgent:\n",
    "    \n",
    "    def __init__(self, world_states, utterances, prior=None):\n",
    "        self.world_states = world_states\n",
    "        self.utterances = utterances\n",
    "        self.prior = prior if prior is not None else np.ones(len(world_states)) / len(world_states)\n",
    "        self.literal_listener_matrix = self.initialize_literal_listener_matrix()\n",
    "\n",
    "    def initialize_literal_listener_matrix(self):\n",
    "        matrix = np.array([\n",
    "            [1.0, 0.0, 0.0],  # m_0\n",
    "            [0.0, 1.0, 0.0],  # m_1\n",
    "            [0.0, 1.0, 0.0],  # m_2\n",
    "            [0.0, 1.0, 0.0],  # m_3\n",
    "            [0.0, 1.0, 1.0],  # m_4\n",
    "        ])\n",
    "        return normalize(matrix)\n",
    "\n",
    "    def literal_listener(self, utterance_index):\n",
    "        return self.literal_listener_matrix[:, utterance_index]\n",
    "\n",
    "    def pragmatic_speaker(self, world_state_index, alpha=1.0, cost=0):\n",
    "        U = lambda u: safe_log(alpha * self.literal_listener_matrix[u, :]) - cost\n",
    "        return normalize(np.exp(alpha * U(world_state_index)))\n",
    "\n",
    "    def pragmatic_listener(self, utterance_index):\n",
    "        pragmatic_speaker_matrix = np.array([self.pragmatic_speaker(index) for index, world_state in enumerate(self.world_states)])\n",
    "        return normalize(pragmatic_speaker_matrix[:, utterance_index] * self.prior)"
   ]
  },
  {
   "cell_type": "code",
   "execution_count": 8,
   "id": "0b4b623c-a775-42f4-b0a9-db25c334be95",
   "metadata": {},
   "outputs": [
    {
     "name": "stdout",
     "output_type": "stream",
     "text": [
      "Testing Literal Listener\n",
      "Literal listener probabilities for 'none': [1. 0. 0. 0. 0.]\n",
      "Literal listener probabilities for 'some': [0.   0.25 0.25 0.25 0.25]\n",
      "Literal listener probabilities for 'all': [0. 0. 0. 0. 1.]\n"
     ]
    }
   ],
   "source": [
    "# Instantiate the agent with the given world states and utterances\n",
    "agent = RationalSpeechAgent(\n",
    "    world_states=['m_0', 'm_1', 'm_2', 'm_3', 'm_4'],\n",
    "    utterances=['none', 'some', 'all']\n",
    ")\n",
    "\n",
    "# Test the literal listener's output\n",
    "print(\"Testing Literal Listener\")\n",
    "for idx, utterance in enumerate(agent.utterances):\n",
    "    result = agent.literal_listener(idx)\n",
    "    print(f\"Literal listener probabilities for '{utterance}': {result}\")"
   ]
  },
  {
   "cell_type": "code",
   "execution_count": 9,
   "id": "9e7cc862-24d7-4981-b0b3-342aee8daa02",
   "metadata": {},
   "outputs": [
    {
     "name": "stdout",
     "output_type": "stream",
     "text": [
      "\n",
      "Testing Pragmatic Speaker\n",
      "Pragmatic speaker probabilities for world state 'm_0': [1. 0. 0.]\n",
      "Pragmatic speaker probabilities for world state 'm_1': [0. 1. 0.]\n",
      "Pragmatic speaker probabilities for world state 'm_2': [0. 1. 0.]\n",
      "Pragmatic speaker probabilities for world state 'm_3': [0. 1. 0.]\n",
      "Pragmatic speaker probabilities for world state 'm_4': [0.  0.2 0.8]\n"
     ]
    }
   ],
   "source": [
    "print(\"\\nTesting Pragmatic Speaker\")\n",
    "for idx, state in enumerate(agent.world_states):\n",
    "    result = agent.pragmatic_speaker(idx)\n",
    "    print(f\"Pragmatic speaker probabilities for world state '{state}': {result}\")"
   ]
  },
  {
   "cell_type": "code",
   "execution_count": 10,
   "id": "8c9fcfbf-d8d8-4fa2-b971-56910e2e343a",
   "metadata": {},
   "outputs": [
    {
     "name": "stdout",
     "output_type": "stream",
     "text": [
      "\n",
      "Testing Pragmatic Listener\n",
      "Pragmatic listener updated beliefs for utterance 'none': [1. 0. 0. 0. 0.]\n",
      "Pragmatic listener updated beliefs for utterance 'some': [0.     0.3125 0.3125 0.3125 0.0625]\n",
      "Pragmatic listener updated beliefs for utterance 'all': [0. 0. 0. 0. 1.]\n"
     ]
    }
   ],
   "source": [
    "print(\"\\nTesting Pragmatic Listener\")\n",
    "for idx, utterance in enumerate(agent.utterances):\n",
    "    result = agent.pragmatic_listener(idx)\n",
    "    print(f\"Pragmatic listener updated beliefs for utterance '{utterance}': {result}\")"
   ]
  }
 ],
 "metadata": {
  "kernelspec": {
   "display_name": "Python 3 (ipykernel)",
   "language": "python",
   "name": "python3"
  },
  "language_info": {
   "codemirror_mode": {
    "name": "ipython",
    "version": 3
   },
   "file_extension": ".py",
   "mimetype": "text/x-python",
   "name": "python",
   "nbconvert_exporter": "python",
   "pygments_lexer": "ipython3",
   "version": "3.11.6"
  }
 },
 "nbformat": 4,
 "nbformat_minor": 5
}
