{
 "cells": [
  {
   "cell_type": "markdown",
   "id": "c04bd45c-e0ab-453f-a1bc-b59ae6486687",
   "metadata": {},
   "source": [
    "# Model evaluation\n",
    "\n",
    "Now that we have a model trained that seems to have learned well, we can examine it to see how well it really learned."
   ]
  },
  {
   "cell_type": "code",
   "execution_count": 1,
   "id": "5c7b0908-d35e-4ac0-a055-77b6d2a0a728",
   "metadata": {},
   "outputs": [],
   "source": [
    "import yaml\n",
    "import torch\n",
    "from ataarangi.models import TransformerModel, RNNModel\n",
    "from ataarangi.data import SequenceTokenizer, load_data"
   ]
  },
  {
   "cell_type": "code",
   "execution_count": 2,
   "id": "4819347c-5094-4195-9097-38db664c2ae5",
   "metadata": {},
   "outputs": [],
   "source": [
    "device = torch.device('cuda' if torch.cuda.is_available() else 'cpu')"
   ]
  },
  {
   "cell_type": "code",
   "execution_count": 3,
   "id": "be777b68-ed2b-4642-ad2c-491740e6db7c",
   "metadata": {},
   "outputs": [],
   "source": [
    "# Initialize tokenizers\n",
    "tokenizer = SequenceTokenizer('../data/worldstate_tokens.txt', '../data/tokens.txt')"
   ]
  },
  {
   "cell_type": "code",
   "execution_count": 4,
   "id": "879bc3f9-4644-4fe0-a30a-27be4dc2709e",
   "metadata": {},
   "outputs": [
    {
     "data": {
      "text/plain": [
       "{'[PAD]': 0,\n",
       " '[SOS]': 1,\n",
       " '[SELECTED]': 2,\n",
       " '[NOT_SELECTED]': 3,\n",
       " '[COLOUR_RED]': 4,\n",
       " '[COLOUR_BLUE]': 5,\n",
       " '[COLOUR_GREEN]': 6,\n",
       " '[COLOUR_YELLOW]': 7,\n",
       " '[COLOUR_BLACK]': 8,\n",
       " '[COLOUR_WHITE]': 9,\n",
       " '[COLOUR_BROWN]': 10,\n",
       " '[COLOUR_PINK]': 11,\n",
       " '[HEIGHT_1]': 12,\n",
       " '[HEIGHT_2]': 13,\n",
       " '[HEIGHT_3]': 14,\n",
       " '[HEIGHT_4]': 15,\n",
       " '[HEIGHT_5]': 16,\n",
       " '[HEIGHT_6]': 17,\n",
       " '[HEIGHT_7]': 18,\n",
       " '[HEIGHT_8]': 19,\n",
       " '[HEIGHT_9]': 20,\n",
       " '[HEIGHT_10]': 21,\n",
       " '[CLS]': 22,\n",
       " 'rākau': 23,\n",
       " 'te': 24,\n",
       " 'ngā': 25,\n",
       " 'me': 26,\n",
       " 'mā': 27,\n",
       " 'kākāriki': 28,\n",
       " 'kōwhai': 29,\n",
       " 'kikorangi': 30,\n",
       " 'parauri': 31,\n",
       " 'pango': 32,\n",
       " 'whero': 33,\n",
       " 'māwhero': 34,\n",
       " 'iti': 35,\n",
       " 'nui': 36,\n",
       " 'hāunga': 37,\n",
       " 'katoa': 38,\n",
       " 'taha': 39,\n",
       " 'kei': 40,\n",
       " 'mauī': 41,\n",
       " 'matau': 42,\n",
       " 'ki': 43,\n",
       " 'tawhiti_rawa': 44,\n",
       " 'rawa': 45,\n",
       " 'e': 46,\n",
       " 'rua': 47,\n",
       " 'waenganui': 48,\n",
       " 'i': 49,\n",
       " 'toru': 50,\n",
       " 'tuarua': 51,\n",
       " 'mai': 52,\n",
       " '[EOS]': 53}"
      ]
     },
     "execution_count": 4,
     "metadata": {},
     "output_type": "execute_result"
    }
   ],
   "source": [
    "tokenizer.token_map"
   ]
  },
  {
   "cell_type": "code",
   "execution_count": 5,
   "id": "6439038f-e366-4ae4-b4d2-b53176c114e4",
   "metadata": {},
   "outputs": [],
   "source": [
    "def load_model(path, params):\n",
    "    model = RNNModel(**params)\n",
    "    model.load_state_dict(torch.load(path))\n",
    "    return model\n",
    "\n",
    "best_model_params = {\n",
    "    'tokenizer': tokenizer,\n",
    "    'embed_size': 128,\n",
    "    'hidden_size': 512,\n",
    "    'num_layers': 4\n",
    "}\n",
    "\n",
    "best_model = load_model(\n",
    "    '../models/lr=0.001-num_layers=4-embed_size=128-hidden_size=512-dropout=0.0.pth',\n",
    "    best_model_params\n",
    ")"
   ]
  },
  {
   "cell_type": "code",
   "execution_count": 6,
   "id": "ec6e73bd-aad2-4228-bc29-a5fa78bd64a2",
   "metadata": {},
   "outputs": [],
   "source": [
    "train_data, dev_data = load_data('../data/train_set.csv', '../data/dev_set.csv')"
   ]
  },
  {
   "cell_type": "code",
   "execution_count": 7,
   "id": "f02c1046-c1d4-43e4-81bf-4d96932eaa19",
   "metadata": {},
   "outputs": [
    {
     "name": "stdout",
     "output_type": "stream",
     "text": [
      "[3, 5, 15, 2, 9, 19, 22, 24, 23, 27, 53]\n"
     ]
    }
   ],
   "source": [
    "tokens = tokenizer.tokenize(train_data['rākau'][0])\n",
    "tokens_tensor = torch.tensor(tokens, dtype=torch.long).to(device)  # Ensure the tensor is of type long\n",
    "generated_sequence = torch.argmax(best_model.generate(tokens), axis=-1)[0].tolist()\n",
    "print(generated_sequence)"
   ]
  },
  {
   "cell_type": "code",
   "execution_count": 8,
   "id": "8db16874-0f85-42e8-a565-e0a954362846",
   "metadata": {},
   "outputs": [
    {
     "data": {
      "text/plain": [
       "[{'color': 'blue', 'height': 4, 'location': 1, 'selected': False},\n",
       " {'color': 'white', 'height': 8, 'location': 2, 'selected': True}]"
      ]
     },
     "execution_count": 8,
     "metadata": {},
     "output_type": "execute_result"
    }
   ],
   "source": [
    "train_data['rākau'][0]"
   ]
  },
  {
   "cell_type": "code",
   "execution_count": 9,
   "id": "7a66b69d-f2db-4421-a557-56df4c4dd6e8",
   "metadata": {},
   "outputs": [
    {
     "name": "stdout",
     "output_type": "stream",
     "text": [
      "[NOT_SELECTED] [COLOUR_BLUE] [HEIGHT_4] [SELECTED] [COLOUR_WHITE] [HEIGHT_8] [CLS] te rākau mā [EOS]\n"
     ]
    }
   ],
   "source": [
    "print(tokenizer.decode(generated_sequence))"
   ]
  }
 ],
 "metadata": {
  "kernelspec": {
   "display_name": "Python 3 (ipykernel)",
   "language": "python",
   "name": "python3"
  },
  "language_info": {
   "codemirror_mode": {
    "name": "ipython",
    "version": 3
   },
   "file_extension": ".py",
   "mimetype": "text/x-python",
   "name": "python",
   "nbconvert_exporter": "python",
   "pygments_lexer": "ipython3",
   "version": "3.11.6"
  }
 },
 "nbformat": 4,
 "nbformat_minor": 5
}
