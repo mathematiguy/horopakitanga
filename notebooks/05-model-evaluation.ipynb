{
 "cells": [
  {
   "cell_type": "markdown",
   "id": "c04bd45c-e0ab-453f-a1bc-b59ae6486687",
   "metadata": {},
   "source": [
    "# Model evaluation\n",
    "\n",
    "Now that we have a model trained that seems to have learned well, we can examine it to see how well it really learned."
   ]
  },
  {
   "cell_type": "code",
   "execution_count": 1,
   "id": "5c7b0908-d35e-4ac0-a055-77b6d2a0a728",
   "metadata": {},
   "outputs": [],
   "source": [
    "import yaml\n",
    "import torch\n",
    "from ataarangi.models import TransformerModel, RNNModel\n",
    "from ataarangi.data import SequenceTokenizer, load_data"
   ]
  },
  {
   "cell_type": "code",
   "execution_count": 2,
   "id": "4819347c-5094-4195-9097-38db664c2ae5",
   "metadata": {},
   "outputs": [],
   "source": [
    "device = torch.device('cuda' if torch.cuda.is_available() else 'cpu')"
   ]
  },
  {
   "cell_type": "code",
   "execution_count": 3,
   "id": "be777b68-ed2b-4642-ad2c-491740e6db7c",
   "metadata": {},
   "outputs": [],
   "source": [
    "# Initialize tokenizers\n",
    "tokenizer = SequenceTokenizer('../data/worldstate_tokens.txt', '../data/tokens.txt')"
   ]
  },
  {
   "cell_type": "code",
   "execution_count": 8,
   "id": "5175727b-876b-4b7e-9c9e-bb227f6f9a5f",
   "metadata": {},
   "outputs": [
    {
     "name": "stdout",
     "output_type": "stream",
     "text": [
      "../models/lr=0.00086-num_layers=2-embed_size=128-hidden_size=256.pth\n"
     ]
    }
   ],
   "source": [
    "! ls ../models/*.pth -t | head -n1"
   ]
  },
  {
   "cell_type": "code",
   "execution_count": 9,
   "id": "6439038f-e366-4ae4-b4d2-b53176c114e4",
   "metadata": {},
   "outputs": [],
   "source": [
    "def load_model(path, params):\n",
    "    model = RNNModel(**params)\n",
    "    model.load_state_dict(torch.load(path))\n",
    "    return model\n",
    "\n",
    "best_model_params = {\n",
    "    'tokenizer': tokenizer,\n",
    "    'embed_size': 128,\n",
    "    'hidden_size': 256,\n",
    "    'num_layers': 2\n",
    "}\n",
    "\n",
    "best_model = load_model(\n",
    "    '../models/lr=0.00086-num_layers=2-embed_size=128-hidden_size=256.pth',\n",
    "    best_model_params\n",
    ")"
   ]
  },
  {
   "cell_type": "code",
   "execution_count": 10,
   "id": "ec6e73bd-aad2-4228-bc29-a5fa78bd64a2",
   "metadata": {},
   "outputs": [],
   "source": [
    "train_data, dev_data = load_data('../data/train_set.csv', '../data/dev_set.csv')"
   ]
  },
  {
   "cell_type": "code",
   "execution_count": 11,
   "id": "f02c1046-c1d4-43e4-81bf-4d96932eaa19",
   "metadata": {},
   "outputs": [
    {
     "name": "stdout",
     "output_type": "stream",
     "text": [
      "[38, 25, 0, 0, 0, 0, 0, 31, 31, 31, 31, 31, 31, 31, 31, 31, 31, 31, 31, 31, 31, 31, 31, 31, 31, 31, 31, 31, 31]\n"
     ]
    }
   ],
   "source": [
    "tokens = tokenizer.tokenize(dev_data['rākau'][12])\n",
    "tokens_tensor = torch.tensor(tokens, dtype=torch.long).to(device)  # Ensure the tensor is of type long\n",
    "generated_sequence = torch.argmax(best_model.generate(tokens), axis=-1)[0].tolist()\n",
    "print(generated_sequence)"
   ]
  },
  {
   "cell_type": "code",
   "execution_count": 20,
   "id": "fb5c3a48-3fe5-4ee8-a7ff-3fd3345d125f",
   "metadata": {
    "scrolled": true
   },
   "outputs": [
    {
     "data": {
      "text/plain": [
       "'[SOS] [NOT_SELECTED] [COLOUR_BLACK] [HEIGHT_8] [SELECTED] [COLOUR_BLACK] [HEIGHT_10] [SEP]'"
      ]
     },
     "execution_count": 20,
     "metadata": {},
     "output_type": "execute_result"
    }
   ],
   "source": [
    "tokenizer.decode(tokens)"
   ]
  },
  {
   "cell_type": "code",
   "execution_count": 13,
   "id": "aaf2d08b-198f-4302-93d7-60deaa023e9f",
   "metadata": {},
   "outputs": [
    {
     "name": "stdout",
     "output_type": "stream",
     "text": [
      "katoa ngā [PAD] [PAD] [PAD] [PAD] [PAD] parauri parauri parauri parauri parauri parauri parauri parauri parauri parauri parauri parauri parauri parauri parauri parauri parauri parauri parauri parauri parauri parauri\n"
     ]
    }
   ],
   "source": [
    "print(tokenizer.decode(generated_sequence))"
   ]
  }
 ],
 "metadata": {
  "kernelspec": {
   "display_name": "Python 3 (ipykernel)",
   "language": "python",
   "name": "python3"
  },
  "language_info": {
   "codemirror_mode": {
    "name": "ipython",
    "version": 3
   },
   "file_extension": ".py",
   "mimetype": "text/x-python",
   "name": "python",
   "nbconvert_exporter": "python",
   "pygments_lexer": "ipython3",
   "version": "3.11.6"
  }
 },
 "nbformat": 4,
 "nbformat_minor": 5
}
