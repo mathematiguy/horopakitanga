{
 "cells": [
  {
   "cell_type": "markdown",
   "id": "4ec92da1-4f1f-4ad1-b368-1ef1b9a7c1ef",
   "metadata": {},
   "source": [
    "# Designing agents\n",
    "\n",
    "In this notebook I'll write and test implementations for the `RationalSpeechAgent` as well as the `TeacherAgent` and `StudentAgent` models."
   ]
  },
  {
   "cell_type": "code",
   "execution_count": 1,
   "id": "88bcb23a-5ce9-4670-8d32-ad1c9a26fe69",
   "metadata": {},
   "outputs": [],
   "source": [
    "import torch"
   ]
  },
  {
   "cell_type": "code",
   "execution_count": null,
   "id": "a373dfd8-842a-4a5f-b511-630eb4d5e4e8",
   "metadata": {},
   "outputs": [],
   "source": [
    "class RationalSpeechAgent:\n",
    "    def __init__(self, model, tokenizer, device):\n",
    "        self.model = model\n",
    "        self.tokenizer = tokenizer\n",
    "        self.device = device\n",
    "\n",
    "    def generate_utterance(self, world_state):\n",
    "        # Encode world state\n",
    "        input_ids = self.tokenizer.encode(world_state, return_tensors=\"pt\").to(self.device)\n",
    "        \n",
    "        # Generate output using the model\n",
    "        with torch.no_grad():\n",
    "            outputs = self.model.generate(input_ids, max_length=50)\n",
    "        \n",
    "        # Decode generated ids back to text\n",
    "        utterance = self.tokenizer.decode(outputs[0], skip_special_tokens=True)\n",
    "        return utterance\n",
    "\n",
    "    def interpret_utterance(self, utterance):\n",
    "        # This method should interpret the utterance to update beliefs or understanding about the world state\n",
    "        # This would likely be another model or a method within the existing model if it's bidirectional\n",
    "        pass\n",
    "\n",
    "    def select_world_state(self):\n",
    "        # Implement logic to select the next world state to present to the student\n",
    "        # This could be based on a heuristic or learned policy\n",
    "        pass\n",
    "\n",
    "    def provide_feedback(self, student_response, correct_response):\n",
    "        # Simple feedback mechanism\n",
    "        return student_response.strip().lower() == correct_response.strip().lower()"
   ]
  }
 ],
 "metadata": {
  "kernelspec": {
   "display_name": "Python 3 (ipykernel)",
   "language": "python",
   "name": "python3"
  },
  "language_info": {
   "codemirror_mode": {
    "name": "ipython",
    "version": 3
   },
   "file_extension": ".py",
   "mimetype": "text/x-python",
   "name": "python",
   "nbconvert_exporter": "python",
   "pygments_lexer": "ipython3",
   "version": "3.11.6"
  }
 },
 "nbformat": 4,
 "nbformat_minor": 5
}
