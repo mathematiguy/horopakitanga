{
 "cells": [
  {
   "cell_type": "markdown",
   "id": "07e545d3-bf1b-46cb-afa4-df3d42d6cd17",
   "metadata": {},
   "source": [
    "# Data Augmentation"
   ]
  },
  {
   "cell_type": "code",
   "execution_count": 123,
   "id": "ed32209c-fd7b-46b3-a506-321c6c88647e",
   "metadata": {},
   "outputs": [],
   "source": [
    "import json\n",
    "import random\n",
    "import logging\n",
    "from functools import reduce\n",
    "\n",
    "import numpy as np\n",
    "import pandas as pd\n",
    "import matplotlib.pyplot as plt\n",
    "\n",
    "from ataarangi.rakau import WorldState"
   ]
  },
  {
   "cell_type": "code",
   "execution_count": 23,
   "id": "dac8bb7f-5f18-43e4-949f-7c3f6bf8ea4f",
   "metadata": {},
   "outputs": [],
   "source": [
    "json_data = []\n",
    "world_states = []\n",
    "with open('../data/world_states.jsonl', 'r') as f:\n",
    "    for line in f.readlines():\n",
    "        j = json.loads(line)\n",
    "        json_data.append(j)\n",
    "        world_states.append(\n",
    "            WorldState.from_dict(j['sticks'])\n",
    "        )\n",
    "\n",
    "rākau_data = pd.read_csv('../data/rākau_data.csv')"
   ]
  },
  {
   "cell_type": "code",
   "execution_count": 30,
   "id": "38596e0f-e9ce-4b10-b762-0f76d957aadd",
   "metadata": {},
   "outputs": [
    {
     "name": "stdout",
     "output_type": "stream",
     "text": [
      "te rākau parauri\n"
     ]
    },
    {
     "data": {
      "image/png": "[encoded data removed]",
      "text/plain": [
       "<Figure size 1000x600 with 1 Axes>"
      ]
     },
     "metadata": {},
     "output_type": "display_data"
    }
   ],
   "source": [
    "index = 569 \n",
    "state = WorldState.from_dict(json_data[index]['sticks'])\n",
    "print(rākau_data.loc[index, 'description'])\n",
    "state.draw()"
   ]
  },
  {
   "cell_type": "markdown",
   "id": "2789bfa9-65e7-4f4b-b310-1fc5bfe9c489",
   "metadata": {},
   "source": [
    "Based on this plot, it's probably enough to filter out samples with more than 10 sticks as being 'too complicated'. That'll help us keep the feature matrices compact, which hopefully will help with learning."
   ]
  },
  {
   "cell_type": "markdown",
   "id": "50531b43-6266-4123-b055-9e32ec1e3b95",
   "metadata": {},
   "source": [
    "## Symmetries\n",
    "\n",
    "There are multiple symmetries in this game. We could use these to augment the training data and hopefully teach the model some useful invariances relating to the target task. The goal will be to implement these in this notebook.\n",
    "\n",
    "The symmetries are:\n",
    "- Colour: For a given world state, if you permute the colours in the input and permute the colours in the output in the same way, then the resulting (world state, utterance) pair will still be valid.\n",
    "- Size: The size is an ordinal variable, so as long as the sizes of the sticks are in the same relative order, the target utterance should not change.\n",
    "- Position: Unless the words \"Left\" or \"Right\" are used, the order of the sticks does not matter (this could be false, strictly speaking since putting the sticks all on one side may change the most natural utterance)\n",
    "- Reflection: If the words \"Left\" or \"Right\" are used, then if you reverse the order of the sticks, the target utterance will be valid after substituting \"Right\" for \"Left\" and vice-versa.\n",
    "\n",
    "### Colour\n",
    "\n",
    "We'll start by exploring colour, and we'll do this by calculating the set of all possible permutations of the available colours. Once we have that, we can choose all permutations that move at least one of the colours in the world state, and then we can apply all of those maps in the input and output to get every possible colour permutation of this world state."
   ]
  },
  {
   "cell_type": "code",
   "execution_count": 37,
   "id": "6edd5b2f-731c-4576-9296-8e9f09b3d2be",
   "metadata": {},
   "outputs": [],
   "source": [
    "from ataarangi.data import COLOURS\n",
    "from itertools import permutations "
   ]
  },
  {
   "cell_type": "code",
   "execution_count": 73,
   "id": "a3fd55e0-b67a-408c-a85b-2ff37a5463d1",
   "metadata": {},
   "outputs": [
    {
     "data": {
      "text/plain": [
       "({'red': 0,\n",
       "  'blue': 1,\n",
       "  'green': 2,\n",
       "  'yellow': 3,\n",
       "  'black': 4,\n",
       "  'white': 5,\n",
       "  'brown': 6,\n",
       "  'pink': 7},\n",
       " {0: 'red',\n",
       "  1: 'blue',\n",
       "  2: 'green',\n",
       "  3: 'yellow',\n",
       "  4: 'black',\n",
       "  5: 'white',\n",
       "  6: 'brown',\n",
       "  7: 'pink'})"
      ]
     },
     "execution_count": 73,
     "metadata": {},
     "output_type": "execute_result"
    }
   ],
   "source": [
    "colour_to_id = dict(zip(COLOURS, range(len(COLOURS))))\n",
    "id_to_colour = {v: k for k, v in colour_to_id.items()}\n",
    "colour_to_id, id_to_colour"
   ]
  },
  {
   "cell_type": "code",
   "execution_count": 87,
   "id": "d4d01e31-5a23-4c6d-a6fe-12a88987cf35",
   "metadata": {},
   "outputs": [],
   "source": [
    "def create_permutatation_matrix(num_colors):\n",
    "    # Generate all permutations of the array of colors\n",
    "    color_indices = np.arange(num_colors)\n",
    "    all_perms = list(permutations(color_indices))\n",
    "    num_perms = len(all_perms)\n",
    "    \n",
    "    # Create a 3D array to hold the permutation transformation matrices\n",
    "    transformation_tensor = np.zeros((num_perms, num_colors, num_colors), dtype=int)\n",
    "    \n",
    "    for i, perm in enumerate(all_perms):\n",
    "        # Fill the appropriate places in the matrix to indicate the movement\n",
    "        transformation_tensor[i, color_indices, perm] = 1\n",
    "\n",
    "    return transformation_tensor"
   ]
  },
  {
   "cell_type": "code",
   "execution_count": 97,
   "id": "ddea4275-3398-4564-ae93-16513850ba98",
   "metadata": {},
   "outputs": [],
   "source": [
    "# Example usage\n",
    "num_colors = len(COLOURS)  # Small example with 4 colors\n",
    "permutation_matrix = create_permutatation_matrix(num_colors)"
   ]
  },
  {
   "cell_type": "code",
   "execution_count": 145,
   "id": "cbd49c82-967a-4056-b396-c8fdfdd5c812",
   "metadata": {},
   "outputs": [
    {
     "data": {
      "text/plain": [
       "(array([    1,     2,     2, ..., 40319, 40319, 40319]),\n",
       " array([4, 3, 4, ..., 2, 3, 4]))"
      ]
     },
     "execution_count": 145,
     "metadata": {},
     "output_type": "execute_result"
    }
   ],
   "source": [
    "# Find all permutations where at least one colour in state.colors moves\n",
    "colour_indices = sorted([colour_to_id[col] for col in state.colors.keys()])\n",
    "\n",
    "permuatations = np.where(\n",
    "    permutation_matrix[:, colour_indices, colour_indices] == 0\n",
    "    )\n",
    "\n",
    "permuatations"
   ]
  },
  {
   "cell_type": "code",
   "execution_count": 130,
   "id": "235f6ad4-6c07-4d8b-ab2b-44942f5eadae",
   "metadata": {},
   "outputs": [
    {
     "data": {
      "text/plain": [
       "array([[1, 0, 0, 0, 0, 0, 0, 0],\n",
       "       [0, 1, 0, 0, 0, 0, 0, 0],\n",
       "       [0, 0, 1, 0, 0, 0, 0, 0],\n",
       "       [0, 0, 0, 1, 0, 0, 0, 0],\n",
       "       [0, 0, 0, 0, 1, 0, 0, 0],\n",
       "       [0, 0, 0, 0, 0, 1, 0, 0],\n",
       "       [0, 0, 0, 0, 0, 0, 0, 1],\n",
       "       [0, 0, 0, 0, 0, 0, 1, 0]])"
      ]
     },
     "execution_count": 130,
     "metadata": {},
     "output_type": "execute_result"
    }
   ],
   "source": [
    "permutation_matrix[1,:,:]"
   ]
  },
  {
   "cell_type": "code",
   "execution_count": 132,
   "id": "03326e6b-69fc-4a43-b5b2-dc05de1a42b0",
   "metadata": {},
   "outputs": [
    {
     "data": {
      "text/plain": [
       "['red', 'blue', 'green', 'yellow', 'black', 'white', 'brown', 'pink']"
      ]
     },
     "execution_count": 132,
     "metadata": {},
     "output_type": "execute_result"
    }
   ],
   "source": [
    "COLOURS"
   ]
  },
  {
   "cell_type": "code",
   "execution_count": 135,
   "id": "15fed02a-c5c1-4549-8bbd-23456db9c60b",
   "metadata": {},
   "outputs": [
    {
     "data": {
      "text/plain": [
       "dict_keys(['brown', 'green', 'white', 'red', 'yellow'])"
      ]
     },
     "execution_count": 135,
     "metadata": {},
     "output_type": "execute_result"
    }
   ],
   "source": [
    "state.colors.keys()"
   ]
  }
 ],
 "metadata": {
  "kernelspec": {
   "display_name": "Python 3 (ipykernel)",
   "language": "python",
   "name": "python3"
  },
  "language_info": {
   "codemirror_mode": {
    "name": "ipython",
    "version": 3
   },
   "file_extension": ".py",
   "mimetype": "text/x-python",
   "name": "python",
   "nbconvert_exporter": "python",
   "pygments_lexer": "ipython3",
   "version": "3.11.6"
  }
 },
 "nbformat": 4,
 "nbformat_minor": 5
}
